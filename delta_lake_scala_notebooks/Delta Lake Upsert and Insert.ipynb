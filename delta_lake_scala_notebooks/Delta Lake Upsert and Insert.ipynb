{
 "cells": [
  {
   "cell_type": "code",
   "execution_count": 1,
   "metadata": {},
   "outputs": [
    {
     "name": "stdout",
     "output_type": "stream",
     "text": [
      "Starting download from https://repo1.maven.org/maven2/io/delta/delta-core_2.11/0.4.0/delta-core_2.11-0.4.0.jar\n",
      "Finished download of delta-core_2.11-0.4.0.jar\n"
     ]
    }
   ],
   "source": [
    "%AddJar https://repo1.maven.org/maven2/io/delta/delta-core_2.11/0.4.0/delta-core_2.11-0.4.0.jar"
   ]
  },
  {
   "cell_type": "code",
   "execution_count": 2,
   "metadata": {},
   "outputs": [],
   "source": [
    "import org.apache.spark.sql.delta.DeltaLog\n",
    "import io.delta.tables._\n",
    "import org.apache.spark.sql.functions._ \n",
    "import org.apache.spark.sql.{SaveMode, SparkSession, DataFrame}"
   ]
  },
  {
   "cell_type": "markdown",
   "metadata": {},
   "source": [
    "# Create table "
   ]
  },
  {
   "cell_type": "code",
   "execution_count": 3,
   "metadata": {},
   "outputs": [
    {
     "data": {
      "text/plain": [
       "createTable: (data: org.apache.spark.sql.DataFrame, tableName: String)Unit\n"
      ]
     },
     "metadata": {},
     "output_type": "display_data"
    }
   ],
   "source": [
    "  def createTable(data: DataFrame, tableName: String ): Unit = {\n",
    "    data\n",
    "      .write\n",
    "      .format(\"delta\")\n",
    "      .mode(SaveMode.Overwrite)\n",
    "      .save(\"/opt/deltalake/\" + tableName)\n",
    "  }"
   ]
  },
  {
   "cell_type": "markdown",
   "metadata": {},
   "source": [
    "# Read table"
   ]
  },
  {
   "cell_type": "code",
   "execution_count": 4,
   "metadata": {},
   "outputs": [
    {
     "data": {
      "text/plain": [
       "readTable: (tableName: String)org.apache.spark.sql.DataFrame\n"
      ]
     },
     "metadata": {},
     "output_type": "display_data"
    }
   ],
   "source": [
    " def readTable(tableName: String): DataFrame = {\n",
    "   val df = spark\n",
    "      .read\n",
    "      .format(\"delta\")\n",
    "      .load(\"/opt/deltalake/\" + tableName)\n",
    "     df\n",
    "  }"
   ]
  },
  {
   "cell_type": "code",
   "execution_count": 6,
   "metadata": {},
   "outputs": [
    {
     "data": {
      "text/plain": [
       "loan = [loan_id: int, funded_amnt: int ... 2 more fields]\n"
      ]
     },
     "metadata": {},
     "output_type": "display_data"
    },
    {
     "data": {
      "text/plain": [
       "[loan_id: int, funded_amnt: int ... 2 more fields]"
      ]
     },
     "execution_count": 6,
     "metadata": {},
     "output_type": "execute_result"
    }
   ],
   "source": [
    "val loan = Seq(\n",
    "  (2, 1000, 1000.0, \"TX\"), // existing loan's paid_amnt updated, loan paid in full\n",
    "  (3, 2000, 0.0, \"CA\"))    // new loan's details\n",
    "  .toDF(\"loan_id\", \"funded_amnt\", \"paid_amnt\", \"addr_state\")\n"
   ]
  },
  {
   "cell_type": "code",
   "execution_count": 7,
   "metadata": {},
   "outputs": [],
   "source": [
    "createTable(loan,\"loan\")"
   ]
  },
  {
   "cell_type": "code",
   "execution_count": 8,
   "metadata": {},
   "outputs": [
    {
     "name": "stdout",
     "output_type": "stream",
     "text": [
      "+-------+-----------+---------+----------+\n",
      "|loan_id|funded_amnt|paid_amnt|addr_state|\n",
      "+-------+-----------+---------+----------+\n",
      "|      2|       1000|   1000.0|        TX|\n",
      "|      3|       2000|      0.0|        CA|\n",
      "+-------+-----------+---------+----------+\n",
      "\n"
     ]
    }
   ],
   "source": [
    "readTable(\"loan\").show()"
   ]
  },
  {
   "cell_type": "code",
   "execution_count": 9,
   "metadata": {},
   "outputs": [
    {
     "data": {
      "text/plain": [
       "loanUpdates = [loan_id: int, funded_amnt: int ... 2 more fields]\n"
      ]
     },
     "metadata": {},
     "output_type": "display_data"
    },
    {
     "data": {
      "text/plain": [
       "[loan_id: int, funded_amnt: int ... 2 more fields]"
      ]
     },
     "execution_count": 9,
     "metadata": {},
     "output_type": "execute_result"
    }
   ],
   "source": [
    "val loanUpdates = Seq(\n",
    "  (1, 1000, 1000.0, \"TX\"), // existing loan's paid_amnt updated, loan paid in full\n",
    "  (3, 3000, 1.0, \"CAA\"))    // new loan's details\n",
    "  .toDF(\"loan_id\", \"funded_amnt\", \"paid_amnt\", \"addr_state\")\n"
   ]
  },
  {
   "cell_type": "code",
   "execution_count": 10,
   "metadata": {},
   "outputs": [
    {
     "data": {
      "text/plain": [
       "deltaTable = io.delta.tables.DeltaTable@241ef5a\n"
      ]
     },
     "metadata": {},
     "output_type": "display_data"
    },
    {
     "data": {
      "text/plain": [
       "io.delta.tables.DeltaTable@241ef5a"
      ]
     },
     "execution_count": 10,
     "metadata": {},
     "output_type": "execute_result"
    }
   ],
   "source": [
    "import io.delta.tables.DeltaTable\n",
    "val deltaTable = DeltaTable.forPath(spark, \"/opt/deltalake/loan\")\n",
    "\n",
    "deltaTable.alias(\"t\").merge(\n",
    "  loanUpdates.alias(\"s\"), \n",
    "  \"s.loan_id = t.loan_id\")\n",
    "  .whenMatched.updateAll()\n",
    "  .whenNotMatched.insertAll()\n",
    "  .execute()\n"
   ]
  },
  {
   "cell_type": "code",
   "execution_count": 11,
   "metadata": {},
   "outputs": [
    {
     "name": "stdout",
     "output_type": "stream",
     "text": [
      "+-------+-----------+---------+----------+\n",
      "|loan_id|funded_amnt|paid_amnt|addr_state|\n",
      "+-------+-----------+---------+----------+\n",
      "|      3|       3000|      1.0|       CAA|\n",
      "|      1|       1000|   1000.0|        TX|\n",
      "|      2|       1000|   1000.0|        TX|\n",
      "+-------+-----------+---------+----------+\n",
      "\n"
     ]
    }
   ],
   "source": [
    "readTable(\"loan\").show()"
   ]
  },
  {
   "cell_type": "code",
   "execution_count": null,
   "metadata": {},
   "outputs": [],
   "source": []
  }
 ],
 "metadata": {
  "kernelspec": {
   "display_name": "Apache Toree - Scala",
   "language": "scala",
   "name": "apache_toree_scala"
  },
  "language_info": {
   "codemirror_mode": "text/x-scala",
   "file_extension": ".scala",
   "mimetype": "text/x-scala",
   "name": "scala",
   "pygments_lexer": "scala",
   "version": "2.11.12"
  }
 },
 "nbformat": 4,
 "nbformat_minor": 2
}
