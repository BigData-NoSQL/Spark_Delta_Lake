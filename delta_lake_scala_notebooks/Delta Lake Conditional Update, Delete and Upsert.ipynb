{
 "cells": [
  {
   "cell_type": "code",
   "execution_count": 1,
   "metadata": {},
   "outputs": [
    {
     "name": "stdout",
     "output_type": "stream",
     "text": [
      "Starting download from https://repo1.maven.org/maven2/io/delta/delta-core_2.11/0.4.0/delta-core_2.11-0.4.0.jar\n",
      "Finished download of delta-core_2.11-0.4.0.jar\n"
     ]
    }
   ],
   "source": [
    "%AddJar https://repo1.maven.org/maven2/io/delta/delta-core_2.11/0.4.0/delta-core_2.11-0.4.0.jar"
   ]
  },
  {
   "cell_type": "code",
   "execution_count": 2,
   "metadata": {},
   "outputs": [],
   "source": [
    "import org.apache.spark.sql.delta.DeltaLog\n",
    "import io.delta.tables._\n",
    "import org.apache.spark.sql.functions._ \n",
    "import org.apache.spark.sql.{SaveMode, SparkSession, DataFrame}"
   ]
  },
  {
   "cell_type": "markdown",
   "metadata": {},
   "source": [
    "# Create table "
   ]
  },
  {
   "cell_type": "code",
   "execution_count": 3,
   "metadata": {},
   "outputs": [
    {
     "data": {
      "text/plain": [
       "createTable: (data: org.apache.spark.sql.DataFrame, tableName: String)Unit\n"
      ]
     },
     "metadata": {},
     "output_type": "display_data"
    }
   ],
   "source": [
    "  def createTable(data: DataFrame, tableName: String ): Unit = {\n",
    "    data\n",
    "      .write\n",
    "      .format(\"delta\")\n",
    "      .mode(SaveMode.Overwrite)\n",
    "      .save(\"/opt/deltalake/\" + tableName)\n",
    "  }"
   ]
  },
  {
   "cell_type": "markdown",
   "metadata": {},
   "source": [
    "# Read table"
   ]
  },
  {
   "cell_type": "code",
   "execution_count": 4,
   "metadata": {},
   "outputs": [
    {
     "data": {
      "text/plain": [
       "readTable: (tableName: String)org.apache.spark.sql.DataFrame\n"
      ]
     },
     "metadata": {},
     "output_type": "display_data"
    }
   ],
   "source": [
    " def readTable(tableName: String): DataFrame = {\n",
    "   val df = spark\n",
    "      .read\n",
    "      .format(\"delta\")\n",
    "      .load(\"/opt/deltalake/\" + tableName)\n",
    "     df\n",
    "  }"
   ]
  },
  {
   "cell_type": "code",
   "execution_count": 6,
   "metadata": {},
   "outputs": [
    {
     "name": "stdout",
     "output_type": "stream",
     "text": [
      "+---+----------+-------------------+-----+----------+\n",
      "| id|product_id|         created_at|units|      date|\n",
      "+---+----------+-------------------+-----+----------+\n",
      "|  1|       205|1970-01-01 00:00:15|    1|1970-01-01|\n",
      "|  2|       338|1970-01-01 00:01:15|    2|1970-01-01|\n",
      "|  3|       461|1970-01-01 00:01:50|    5|1970-01-01|\n",
      "|  4|       705|1970-01-06 03:25:55|    2|1970-01-06|\n",
      "|  5|       919|1970-01-06 03:26:15|    2|1970-01-06|\n",
      "|  6|       216|1970-01-06 03:26:35|    2|1970-01-06|\n",
      "|  7|       668|2009-11-14 06:41:05|    5|2009-11-14|\n",
      "|  8|       705|2009-11-14 06:41:10|    2|2009-11-14|\n",
      "|  9|       900|2009-11-14 06:41:15|    5|2009-11-14|\n",
      "| 10|       275|2009-11-14 06:41:20|    1|2009-11-14|\n",
      "| 11|        80|2009-11-14 06:42:10|    1|2009-11-14|\n",
      "| 12|        88|2010-03-26 21:46:45|    1|2010-03-26|\n",
      "| 13|       240|2010-03-26 21:47:00|    5|2010-03-26|\n",
      "| 14|       226|2010-03-26 21:47:20|    5|2010-03-26|\n",
      "| 15|       463|2010-03-26 21:48:00|    3|2010-03-26|\n",
      "| 16|      1014|2010-03-26 21:48:30|    4|2010-03-26|\n",
      "| 17|       900|2010-03-27 20:20:55|    1|2010-03-27|\n",
      "| 18|       283|2010-03-27 20:21:30|    1|2010-03-27|\n",
      "| 19|        42|2010-03-27 20:22:15|    1|2010-03-27|\n",
      "| 20|       902|2012-12-21 06:17:10|    1|2012-12-21|\n",
      "+---+----------+-------------------+-----+----------+\n",
      "only showing top 20 rows\n",
      "\n"
     ]
    },
    {
     "data": {
      "text/plain": [
       "data = [id: string, product_id: string ... 3 more fields]\n"
      ]
     },
     "metadata": {},
     "output_type": "display_data"
    },
    {
     "data": {
      "text/plain": [
       "[id: string, product_id: string ... 3 more fields]"
      ]
     },
     "execution_count": 6,
     "metadata": {},
     "output_type": "execute_result"
    }
   ],
   "source": [
    "val data = readTable(\"sales\")\n",
    "data.show()"
   ]
  },
  {
   "cell_type": "code",
   "execution_count": 21,
   "metadata": {},
   "outputs": [
    {
     "data": {
      "text/plain": [
       "deltaTable = io.delta.tables.DeltaTable@50480bf\n"
      ]
     },
     "metadata": {},
     "output_type": "display_data"
    },
    {
     "data": {
      "text/plain": [
       "io.delta.tables.DeltaTable@50480bf"
      ]
     },
     "execution_count": 21,
     "metadata": {},
     "output_type": "execute_result"
    }
   ],
   "source": [
    "val deltaTable = DeltaTable.forPath(spark, \"/opt/deltalake/sales\")\n",
    "deltaTable.delete(condition = \"date = '1970-01-01'\")  "
   ]
  },
  {
   "cell_type": "code",
   "execution_count": 38,
   "metadata": {},
   "outputs": [],
   "source": [
    "deltaTable.updateExpr(\"date = '1970-01-06'\", Map(\"created_at\" -> \"'ara'\") ) "
   ]
  },
  {
   "cell_type": "code",
   "execution_count": 39,
   "metadata": {},
   "outputs": [
    {
     "name": "stdout",
     "output_type": "stream",
     "text": [
      "+---+----------+-------------------+-----+----------+\n",
      "| id|product_id|         created_at|units|      date|\n",
      "+---+----------+-------------------+-----+----------+\n",
      "|  4|       705|                ara|    2|1970-01-06|\n",
      "|  5|       919|                ara|    2|1970-01-06|\n",
      "|  6|       216|                ara|    2|1970-01-06|\n",
      "|  7|       668|2009-11-14 06:41:05|    5|2009-11-14|\n",
      "|  8|       705|2009-11-14 06:41:10|    2|2009-11-14|\n",
      "|  9|       900|2009-11-14 06:41:15|    5|2009-11-14|\n",
      "| 10|       275|2009-11-14 06:41:20|    1|2009-11-14|\n",
      "| 11|        80|2009-11-14 06:42:10|    1|2009-11-14|\n",
      "| 12|        88|2010-03-26 21:46:45|    1|2010-03-26|\n",
      "| 13|       240|2010-03-26 21:47:00|    5|2010-03-26|\n",
      "| 14|       226|2010-03-26 21:47:20|    5|2010-03-26|\n",
      "| 15|       463|2010-03-26 21:48:00|    3|2010-03-26|\n",
      "| 16|      1014|2010-03-26 21:48:30|    4|2010-03-26|\n",
      "| 17|       900|2010-03-27 20:20:55|    1|2010-03-27|\n",
      "| 18|       283|2010-03-27 20:21:30|    1|2010-03-27|\n",
      "| 19|        42|2010-03-27 20:22:15|    1|2010-03-27|\n",
      "| 20|       902|2012-12-21 06:17:10|    1|2012-12-21|\n",
      "| 21|       527|2012-12-21 06:18:10|    2|2012-12-21|\n",
      "| 22|        54|2012-12-21 06:18:50|    5|2012-12-21|\n",
      "+---+----------+-------------------+-----+----------+\n",
      "\n"
     ]
    }
   ],
   "source": [
    "readTable(\"sales\").show()"
   ]
  },
  {
   "cell_type": "code",
   "execution_count": 52,
   "metadata": {},
   "outputs": [],
   "source": [
    "deltaTable.update(\n",
    "  condition = expr(\"date = '1970-01-06'\"),\n",
    "  set = Map(\"created_at\" -> expr(\"'raja'\")))"
   ]
  },
  {
   "cell_type": "code",
   "execution_count": 53,
   "metadata": {},
   "outputs": [
    {
     "name": "stdout",
     "output_type": "stream",
     "text": [
      "+---+----------+-------------------+-----+----------+\n",
      "| id|product_id|         created_at|units|      date|\n",
      "+---+----------+-------------------+-----+----------+\n",
      "|  4|       705|               raja|    2|1970-01-06|\n",
      "|  5|       919|               raja|    2|1970-01-06|\n",
      "|  6|       216|               raja|    2|1970-01-06|\n",
      "|  7|       668|2009-11-14 06:41:05|    5|2009-11-14|\n",
      "|  8|       705|2009-11-14 06:41:10|    2|2009-11-14|\n",
      "|  9|       900|2009-11-14 06:41:15|    5|2009-11-14|\n",
      "| 10|       275|2009-11-14 06:41:20|    1|2009-11-14|\n",
      "| 11|        80|2009-11-14 06:42:10|    1|2009-11-14|\n",
      "| 12|        88|2010-03-26 21:46:45|    1|2010-03-26|\n",
      "| 13|       240|2010-03-26 21:47:00|    5|2010-03-26|\n",
      "| 14|       226|2010-03-26 21:47:20|    5|2010-03-26|\n",
      "| 15|       463|2010-03-26 21:48:00|    3|2010-03-26|\n",
      "| 16|      1014|2010-03-26 21:48:30|    4|2010-03-26|\n",
      "| 17|       900|2010-03-27 20:20:55|    1|2010-03-27|\n",
      "| 18|       283|2010-03-27 20:21:30|    1|2010-03-27|\n",
      "| 19|        42|2010-03-27 20:22:15|    1|2010-03-27|\n",
      "| 20|       902|2012-12-21 06:17:10|    1|2012-12-21|\n",
      "| 21|       527|2012-12-21 06:18:10|    2|2012-12-21|\n",
      "| 22|        54|2012-12-21 06:18:50|    5|2012-12-21|\n",
      "+---+----------+-------------------+-----+----------+\n",
      "\n"
     ]
    }
   ],
   "source": [
    "readTable(\"sales\").show()"
   ]
  },
  {
   "cell_type": "code",
   "execution_count": 36,
   "metadata": {},
   "outputs": [
    {
     "data": {
      "text/plain": [
       "newData = [id: bigint]\n"
      ]
     },
     "metadata": {},
     "output_type": "display_data"
    },
    {
     "data": {
      "text/plain": [
       "[id: bigint]"
      ]
     },
     "execution_count": 36,
     "metadata": {},
     "output_type": "execute_result"
    }
   ],
   "source": [
    "val newData = spark.range(500, 503).toDF\n",
    "\n",
    "    deltaTable.as(\"oldData\")\n",
    "      .merge(\n",
    "        newData.as(\"newData\"),\n",
    "        \"oldData.id = newData.id\")\n",
    "      .whenMatched\n",
    "      .update(Map(\"id\" -> col(\"newData.id\")))\n",
    "      .whenNotMatched\n",
    "      .insert(Map(\"id\" -> col(\"newData.id\")))\n",
    "      .execute()"
   ]
  },
  {
   "cell_type": "code",
   "execution_count": 38,
   "metadata": {},
   "outputs": [
    {
     "name": "stdout",
     "output_type": "stream",
     "text": [
      "+---+\n",
      "| id|\n",
      "+---+\n",
      "|501|\n",
      "|500|\n",
      "|  3|\n",
      "|  1|\n",
      "|502|\n",
      "+---+\n",
      "\n"
     ]
    }
   ],
   "source": [
    "readTable(\"numbers\").show()"
   ]
  },
  {
   "cell_type": "code",
   "execution_count": null,
   "metadata": {},
   "outputs": [],
   "source": []
  }
 ],
 "metadata": {
  "kernelspec": {
   "display_name": "Apache Toree - Scala",
   "language": "scala",
   "name": "apache_toree_scala"
  },
  "language_info": {
   "codemirror_mode": "text/x-scala",
   "file_extension": ".scala",
   "mimetype": "text/x-scala",
   "name": "scala",
   "pygments_lexer": "scala",
   "version": "2.11.12"
  }
 },
 "nbformat": 4,
 "nbformat_minor": 2
}
